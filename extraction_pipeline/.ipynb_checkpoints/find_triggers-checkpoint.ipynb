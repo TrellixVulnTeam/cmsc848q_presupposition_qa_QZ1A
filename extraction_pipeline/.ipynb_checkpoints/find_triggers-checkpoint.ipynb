{
 "cells": [
  {
   "cell_type": "code",
   "execution_count": 1,
   "id": "60cb856e",
   "metadata": {},
   "outputs": [],
   "source": [
    "from tqdm import tqdm"
   ]
  },
  {
   "cell_type": "code",
   "execution_count": 2,
   "id": "2d6628f4",
   "metadata": {},
   "outputs": [],
   "source": [
    "import os\n",
    "import pandas as pd\n",
    "#import numpy as np\n",
    "import spacy\n",
    "\n",
    "\n",
    "from io import StringIO\n",
    "from spacy.tokens import Doc\n",
    "from csv import QUOTE_NONE\n",
    "\n",
    "CONLL_COLUMN_NAMES = [\"idx\", \"token\", \"lemma\", \"upos\", \"xpos\", \"morph\", \"head\", \"dep\", \"enhanced\", \"misc\" ]\n",
    "\n",
    "class CoNLLReader(object):\n",
    "\n",
    "    def __init__(self, path):\n",
    "        self.conll_file = open(path, \"r\")\n",
    "        self.nlp = spacy.load(\"en_core_web_sm\")\n",
    "\n",
    "\n",
    "    def __iter__(self):\n",
    "        return self\n",
    "\n",
    "    def __next__(self):\n",
    "        with StringIO() as buffer:\n",
    "            metadata = {}\n",
    "            initial = True\n",
    "            for line in self.conll_file:\n",
    "                if line == \"\\n\":\n",
    "                    if initial:\n",
    "                        continue\n",
    "                    else:\n",
    "                        break\n",
    "\n",
    "                initial = False\n",
    "\n",
    "                if line[0] == \"#\":\n",
    "                    key, val = line[2:].split(\"=\", 1)\n",
    "                    key = key.strip()\n",
    "                    val = val.strip()\n",
    "                    metadata[key] = val\n",
    "\n",
    "                else:\n",
    "                    buffer.write(line)\n",
    "\n",
    "            buffer.seek(0)\n",
    "            d = pd.read_csv(buffer, sep=\"\\t\", names=CONLL_COLUMN_NAMES, quoting=QUOTE_NONE, dtype=\"str\", keep_default_na=False, na_values=[])\n",
    "            if len(d) < 1:\n",
    "                raise StopIteration\n",
    "            d = d.astype({\"head\": \"int32\"})\n",
    "\n",
    "        try:\n",
    "            doc = Doc(self.nlp.vocab, words=list(d[\"token\"]))\n",
    "        except:\n",
    "            print(d.dtypes)\n",
    "            print(d)\n",
    "            print(d[\"token\"])\n",
    "            raise StopIteration\n",
    "\n",
    "        for token, lemma in zip(doc, d[\"lemma\"]):\n",
    "            token.lemma_ = lemma\n",
    "\n",
    "\n",
    "        for token, tag in zip(doc, d[\"xpos\"]):\n",
    "            token.tag_ = tag\n",
    "\n",
    "        for token, dep in zip(doc, d[\"dep\"]):\n",
    "            token.dep_ = dep\n",
    "\n",
    "        for token, head in zip(doc, d[\"head\"]):\n",
    "            if head > 0:\n",
    "                token.head = doc[head-1]\n",
    "\n",
    "        return doc, metadata"
   ]
  },
  {
   "cell_type": "code",
   "execution_count": 3,
   "id": "2c076269",
   "metadata": {},
   "outputs": [],
   "source": [
    "from change_of_state_better import find_change_of_state\n",
    "from continuation_of_state_better import find_continuation_of_state"
   ]
  },
  {
   "cell_type": "code",
   "execution_count": 4,
   "id": "024a685d",
   "metadata": {},
   "outputs": [],
   "source": [
    "from comparatives import check_comparative\n",
    "from clefts import check_cleft"
   ]
  },
  {
   "cell_type": "code",
   "execution_count": 5,
   "id": "8e69259f",
   "metadata": {},
   "outputs": [],
   "source": [
    "from embedded_question import check_sentence_for_embedded_question \n",
    "from factives import check_sentence_for_factives, check_sentence_for_quote"
   ]
  },
  {
   "cell_type": "code",
   "execution_count": 6,
   "id": "9f60e511",
   "metadata": {},
   "outputs": [],
   "source": [
    "from lib.conll_reader import CoNLLReader"
   ]
  },
  {
   "cell_type": "code",
   "execution_count": 7,
   "id": "46bc00d9",
   "metadata": {},
   "outputs": [],
   "source": [
    "dataset_path = \"../../datasets/unanswerable_questions_dev.jsonl\"    \n"
   ]
  },
  {
   "cell_type": "code",
   "execution_count": 8,
   "id": "c085963a",
   "metadata": {},
   "outputs": [],
   "source": [
    "import spacy\n",
    "nlp = spacy.load(\"en_core_web_sm\")"
   ]
  },
  {
   "cell_type": "code",
   "execution_count": 9,
   "id": "d38906cc",
   "metadata": {},
   "outputs": [],
   "source": [
    "import json "
   ]
  },
  {
   "cell_type": "code",
   "execution_count": 42,
   "id": "6a8e0109",
   "metadata": {
    "scrolled": true
   },
   "outputs": [
    {
     "name": "stdout",
     "output_type": "stream",
     "text": [
      "who played in the celebrity all star game 2018\n",
      "who can attend the meeting of both houses of parliament without being a member\n"
     ]
    }
   ],
   "source": [
    "with open(dataset_path) as f:\n",
    "    for line in f: \n",
    "        text = line.rstrip(\"\\n\").split(\",\")[0]\n",
    "        nlp_text = nlp(text)\n",
    "        \n",
    "#         if check_sentence_for_embedded_question(nlp(text))[0]: \n",
    "#             print(text)\n",
    "         \n",
    "#         if check_sentence_for_factives(nlp_text)[0]: \n",
    "#             print(text)\n",
    "            \n",
    "#         if check_cleft(nlp_text): \n",
    "#             print(text)\n",
    "     \n",
    "#         if check_comparative(nlp_text)[0]: \n",
    "#             print(text)\n",
    "            \n",
    "    \n",
    "        if find_numeric_determiners(nlp_text): \n",
    "            print(text)"
   ]
  },
  {
   "cell_type": "code",
   "execution_count": null,
   "id": "e1f2198d",
   "metadata": {},
   "outputs": [],
   "source": [
    "s = \"it was rupak that ate the cookies\""
   ]
  },
  {
   "cell_type": "code",
   "execution_count": null,
   "id": "384a99e6",
   "metadata": {},
   "outputs": [],
   "source": [
    "import numpy as np "
   ]
  },
  {
   "cell_type": "code",
   "execution_count": null,
   "id": "46272f48",
   "metadata": {},
   "outputs": [],
   "source": [
    "s1 = \"it was neha that ate the cookies\""
   ]
  },
  {
   "cell_type": "code",
   "execution_count": null,
   "id": "cf4fa480",
   "metadata": {},
   "outputs": [],
   "source": [
    "check_cleft(nlp(s1)) "
   ]
  },
  {
   "cell_type": "code",
   "execution_count": null,
   "id": "be9a2baa",
   "metadata": {},
   "outputs": [],
   "source": [
    "tokens = list(nlp(s1))\n",
    "#print(tokens)\n",
    "tokens_str = [str(token) for token in tokens]\n",
    "#print(tokens_str)\n",
    "cleft_word = np.intersect1d(tokens_str, [\"it\"])\n",
    "#print(cleft_word)\n",
    "index = tokens_str.index(cleft_word)\n",
    "\n",
    "cop = tokens[index + 1]\n",
    "obj = None \n",
    "for child in cop.children: \n",
    "    #print(child, child.dep_ )\n",
    "    \n",
    "    if child.dep_ in ['attr', 'dobj']: \n",
    "        obj = child\n",
    "        break "
   ]
  },
  {
   "cell_type": "code",
   "execution_count": null,
   "id": "5543b021",
   "metadata": {},
   "outputs": [],
   "source": [
    "list(obj.children)  "
   ]
  },
  {
   "cell_type": "code",
   "execution_count": null,
   "id": "87d81b0d",
   "metadata": {},
   "outputs": [],
   "source": [
    "check_cleft(nlp(s1) ) "
   ]
  },
  {
   "cell_type": "code",
   "execution_count": null,
   "id": "b5b60a63",
   "metadata": {},
   "outputs": [],
   "source": [
    "comp_sent = \"Clifford is a bigger dog than Cujo.\"  # should evaluate to true\n",
    "\n"
   ]
  },
  {
   "cell_type": "code",
   "execution_count": null,
   "id": "f43e2be6",
   "metadata": {},
   "outputs": [],
   "source": [
    "# test sentences\n",
    "comp_sent = \"Is Clifford a bigger dog than Cujo?\"  # should evaluate to true\n",
    "comp_sent2 = \"Clifford is a more giant dog than Cujo.\"  # should evaluate to true\n",
    "non_comp_sent = \"Clifford is a bigger dog than I thought,\"  # should evaluate to false\n",
    "other_comp = \"Clifford is bigger of a dog than Cujo.\"  # should evaluate to true\n",
    "other_comp2 = \"Clifford is bigger a dog than Cujo.\"  # should evaluate to true, currently doesn't\n",
    "\n",
    "# displacy.serve(nlp(other_comp2),style='dep')\n"
   ]
  },
  {
   "cell_type": "code",
   "execution_count": null,
   "id": "e9d9307b",
   "metadata": {},
   "outputs": [],
   "source": [
    "check_comparative(nlp(comp_sent))"
   ]
  },
  {
   "cell_type": "code",
   "execution_count": null,
   "id": "a020ee84",
   "metadata": {},
   "outputs": [],
   "source": [
    "check_sentence_for_embedded_question(nlp(\"I fail to see how you can rationalize rewarding illegality.\")) "
   ]
  },
  {
   "cell_type": "code",
   "execution_count": 36,
   "id": "2c0871c2",
   "metadata": {},
   "outputs": [
    {
     "data": {
      "text/plain": [
       "True"
      ]
     },
     "execution_count": 36,
     "metadata": {},
     "output_type": "execute_result"
    }
   ],
   "source": [
    "s10 = \"a microsecond later, images from his exterior sensors didn't snap into focus\"\n",
    "\n",
    "find_change_of_state(nlp(s10))"
   ]
  },
  {
   "cell_type": "code",
   "execution_count": 24,
   "id": "40a8af4a",
   "metadata": {},
   "outputs": [],
   "source": [
    "s9 = \"Lisa stopped petting Tom's cat\"\n",
    "\n",
    "q = \"both kids smiled\"\n",
    "q1 = \"all three cat owners that julia spoke to want another cat\"\n",
    "q2 = \"both of our fathers were thin\""
   ]
  },
  {
   "cell_type": "code",
   "execution_count": 32,
   "id": "3559ab11",
   "metadata": {},
   "outputs": [],
   "source": [
    "q3 = \"do you see any problem at all because folks on both sides of the aisle have tremendous respect from him?\""
   ]
  },
  {
   "cell_type": "code",
   "execution_count": 40,
   "id": "d67c8f7d",
   "metadata": {},
   "outputs": [],
   "source": [
    "s4 = \"meaning behind the song whiter shade of pale\""
   ]
  },
  {
   "cell_type": "code",
   "execution_count": 13,
   "id": "788d57db",
   "metadata": {},
   "outputs": [
    {
     "ename": "NameError",
     "evalue": "name 's9' is not defined",
     "output_type": "error",
     "traceback": [
      "\u001b[0;31m---------------------------------------------------------------------------\u001b[0m",
      "\u001b[0;31mNameError\u001b[0m                                 Traceback (most recent call last)",
      "\u001b[0;32m/var/folders/85/djq58tls0fv3dllvh5_8j5z40000gn/T/ipykernel_49414/781537429.py\u001b[0m in \u001b[0;36m<module>\u001b[0;34m\u001b[0m\n\u001b[0;32m----> 1\u001b[0;31m \u001b[0mfind_change_of_state\u001b[0m\u001b[0;34m(\u001b[0m\u001b[0mnlp\u001b[0m\u001b[0;34m(\u001b[0m\u001b[0ms9\u001b[0m\u001b[0;34m)\u001b[0m\u001b[0;34m)\u001b[0m\u001b[0;34m\u001b[0m\u001b[0;34m\u001b[0m\u001b[0m\n\u001b[0m",
      "\u001b[0;31mNameError\u001b[0m: name 's9' is not defined"
     ]
    }
   ],
   "source": [
    "find_change_of_state(nlp(s9))"
   ]
  },
  {
   "cell_type": "code",
   "execution_count": 15,
   "id": "5548367e",
   "metadata": {},
   "outputs": [
    {
     "data": {
      "text/plain": [
       "True"
      ]
     },
     "execution_count": 15,
     "metadata": {},
     "output_type": "execute_result"
    }
   ],
   "source": [
    "find_continuation_of_state(nlp(s9))"
   ]
  },
  {
   "cell_type": "code",
   "execution_count": 16,
   "id": "f3267b95",
   "metadata": {},
   "outputs": [],
   "source": [
    "from numeric_determiners_better import find_numeric_determiners"
   ]
  },
  {
   "cell_type": "code",
   "execution_count": 17,
   "id": "328d1c03",
   "metadata": {},
   "outputs": [
    {
     "data": {
      "text/plain": [
       "False"
      ]
     },
     "execution_count": 17,
     "metadata": {},
     "output_type": "execute_result"
    }
   ],
   "source": [
    "find_numeric_determiners(nlp(q))"
   ]
  },
  {
   "cell_type": "code",
   "execution_count": 38,
   "id": "a12ea44f",
   "metadata": {},
   "outputs": [],
   "source": [
    "def find_numeric_determiners(sentence):\n",
    "\n",
    "    numeric_predeterminers =set([\"all\"])\n",
    "    special_determiners = set([\"both\"])\n",
    "    all_determiners = numeric_predeterminers | special_determiners\n",
    "\n",
    "\n",
    "    # extract words as list of strings\n",
    "    words = [t.text.lower() for t in sentence]\n",
    "    \n",
    "    #print(words)\n",
    "    if set(words) & all_determiners:\n",
    "        for token in sentence:\n",
    "            include = False\n",
    "            if token.text.lower() in special_determiners:\n",
    "                if token.tag_ == \"DT\" and token.dep_ == \"det\":\n",
    "                    include = True\n",
    "                    return True  \n",
    "                    \n",
    "                if not include:\n",
    "                    for child in token.children:\n",
    "                        if child.dep_ == \"prep\" and child.text.lower() == \"of\":\n",
    "                            include = True\n",
    "                            return True \n",
    "\n",
    "\n",
    "            if not include and token.text.lower() in numeric_predeterminers:\n",
    "                        \n",
    "                if token.tag_ == \"DT\" and token.dep_ == \"det\":\n",
    "                    head_token = token.head\n",
    "\n",
    "                    if head_token.tag_ == \"CD\":\n",
    "                        include = True # all three of the children\n",
    "                        return True  \n",
    "                        \n",
    "                    else :\n",
    "                        \n",
    "                        for child in head_token.children:\n",
    "                            ##print(\"\\t\", child, child.dep_, child.tag_)\n",
    "                            if child.tag_ == \"CD\" and child.dep_ == \"nummod\":  ## changed token.dep_ to child.dep_ \n",
    "                                #print(\"here\")\n",
    "                                ##print(sentence)\n",
    "                                include = True # all three children\n",
    "                                #print(include)\n",
    "                                return True \n",
    "                \n",
    "                elif token.tag_ == \"DT\":\n",
    "                    for child in token.children:\n",
    "                        if child.dep_ == \"prep\" and child.text.lower() == \"of\":\n",
    "                            for child_child in child.children:\n",
    "                                if child_child.dep_ == \"pobj\":\n",
    "                                    has_det = False\n",
    "                                    has_nummod = False\n",
    "                                    for child_child_child in child_child.children:\n",
    "                                        if (child_child_child.tag_ == \"CD\"\n",
    "                                            and child_child_child.dep_ == \"nummod\"):\n",
    "                                            has_nummod = True # all of the three children\n",
    "                                        if (child_child_child.tag_ == \"DT\"\n",
    "                                            and child_child_child.dep_ == \"det\"):\n",
    "                                            has_det = True # all of the three children\n",
    "\n",
    "                                    include = has_det and has_nummod\n",
    "                                    if include:\n",
    "                                        #print(sentence)\n",
    "                                        return True \n",
    "                            if include:\n",
    "                                return True \n",
    "\n",
    "\n",
    "    return False\n",
    "\n",
    "\n"
   ]
  },
  {
   "cell_type": "code",
   "execution_count": 48,
   "id": "78d2929d",
   "metadata": {},
   "outputs": [
    {
     "data": {
      "text/plain": [
       "True"
      ]
     },
     "execution_count": 48,
     "metadata": {},
     "output_type": "execute_result"
    }
   ],
   "source": [
    "find_numeric_determiners(nlp(s5))"
   ]
  },
  {
   "cell_type": "code",
   "execution_count": 47,
   "id": "13743589",
   "metadata": {},
   "outputs": [],
   "source": [
    "s5 = \"both channels is administered by the u.s. department of justice\""
   ]
  },
  {
   "cell_type": "code",
   "execution_count": null,
   "id": "8ce12e6c",
   "metadata": {},
   "outputs": [],
   "source": []
  }
 ],
 "metadata": {
  "kernelspec": {
   "display_name": "Python [conda env:cmsc848q] *",
   "language": "python",
   "name": "conda-env-cmsc848q-py"
  },
  "language_info": {
   "codemirror_mode": {
    "name": "ipython",
    "version": 3
   },
   "file_extension": ".py",
   "mimetype": "text/x-python",
   "name": "python",
   "nbconvert_exporter": "python",
   "pygments_lexer": "ipython3",
   "version": "3.9.10"
  }
 },
 "nbformat": 4,
 "nbformat_minor": 5
}
