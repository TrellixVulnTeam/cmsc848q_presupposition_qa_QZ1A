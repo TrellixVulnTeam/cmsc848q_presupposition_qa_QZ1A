{
 "cells": [
  {
   "cell_type": "code",
   "execution_count": 1,
   "id": "60cb856e",
   "metadata": {},
   "outputs": [],
   "source": [
    "from tqdm import tqdm"
   ]
  },
  {
   "cell_type": "code",
   "execution_count": 2,
   "id": "2d6628f4",
   "metadata": {},
   "outputs": [],
   "source": [
    "import os\n",
    "import pandas as pd\n",
    "#import numpy as np\n",
    "import spacy\n",
    "\n",
    "\n",
    "from io import StringIO\n",
    "from spacy.tokens import Doc\n",
    "from csv import QUOTE_NONE\n",
    "\n",
    "CONLL_COLUMN_NAMES = [\"idx\", \"token\", \"lemma\", \"upos\", \"xpos\", \"morph\", \"head\", \"dep\", \"enhanced\", \"misc\" ]\n",
    "\n",
    "class CoNLLReader(object):\n",
    "\n",
    "    def __init__(self, path):\n",
    "        self.conll_file = open(path, \"r\")\n",
    "        self.nlp = spacy.load(\"en_core_web_sm\")\n",
    "\n",
    "\n",
    "    def __iter__(self):\n",
    "        return self\n",
    "\n",
    "    def __next__(self):\n",
    "        with StringIO() as buffer:\n",
    "            metadata = {}\n",
    "            initial = True\n",
    "            for line in self.conll_file:\n",
    "                if line == \"\\n\":\n",
    "                    if initial:\n",
    "                        continue\n",
    "                    else:\n",
    "                        break\n",
    "\n",
    "                initial = False\n",
    "\n",
    "                if line[0] == \"#\":\n",
    "                    key, val = line[2:].split(\"=\", 1)\n",
    "                    key = key.strip()\n",
    "                    val = val.strip()\n",
    "                    metadata[key] = val\n",
    "\n",
    "                else:\n",
    "                    buffer.write(line)\n",
    "\n",
    "            buffer.seek(0)\n",
    "            d = pd.read_csv(buffer, sep=\"\\t\", names=CONLL_COLUMN_NAMES, quoting=QUOTE_NONE, dtype=\"str\", keep_default_na=False, na_values=[])\n",
    "            if len(d) < 1:\n",
    "                raise StopIteration\n",
    "            d = d.astype({\"head\": \"int32\"})\n",
    "\n",
    "        try:\n",
    "            doc = Doc(self.nlp.vocab, words=list(d[\"token\"]))\n",
    "        except:\n",
    "            print(d.dtypes)\n",
    "            print(d)\n",
    "            print(d[\"token\"])\n",
    "            raise StopIteration\n",
    "\n",
    "        for token, lemma in zip(doc, d[\"lemma\"]):\n",
    "            token.lemma_ = lemma\n",
    "\n",
    "\n",
    "        for token, tag in zip(doc, d[\"xpos\"]):\n",
    "            token.tag_ = tag\n",
    "\n",
    "        for token, dep in zip(doc, d[\"dep\"]):\n",
    "            token.dep_ = dep\n",
    "\n",
    "        for token, head in zip(doc, d[\"head\"]):\n",
    "            if head > 0:\n",
    "                token.head = doc[head-1]\n",
    "\n",
    "        return doc, metadata"
   ]
  },
  {
   "cell_type": "code",
   "execution_count": 2,
   "id": "2c076269",
   "metadata": {},
   "outputs": [],
   "source": [
    "from change_of_state_better import find_change_of_state\n",
    "from continuation_of_state_better import find_continuation_of_state"
   ]
  },
  {
   "cell_type": "code",
   "execution_count": 3,
   "id": "024a685d",
   "metadata": {},
   "outputs": [],
   "source": [
    "from comparatives import check_comparative\n",
    "from clefts import check_cleft"
   ]
  },
  {
   "cell_type": "code",
   "execution_count": 4,
   "id": "8e69259f",
   "metadata": {},
   "outputs": [],
   "source": [
    "from embedded_question import check_sentence_for_embedded_question \n",
    "from factives import check_sentence_for_factives, check_sentence_for_quote"
   ]
  },
  {
   "cell_type": "code",
   "execution_count": 6,
   "id": "9f60e511",
   "metadata": {},
   "outputs": [],
   "source": [
    "from lib.conll_reader import CoNLLReader"
   ]
  },
  {
   "cell_type": "code",
   "execution_count": 7,
   "id": "46bc00d9",
   "metadata": {},
   "outputs": [],
   "source": [
    "dataset_path = \"../../datasets/unanswerable_questions_dev.jsonl\"    \n"
   ]
  },
  {
   "cell_type": "code",
   "execution_count": 2,
   "id": "c085963a",
   "metadata": {},
   "outputs": [],
   "source": [
    "import spacy\n",
    "nlp = spacy.load(\"en_core_web_sm\")"
   ]
  },
  {
   "cell_type": "code",
   "execution_count": 4,
   "id": "a49b758d",
   "metadata": {},
   "outputs": [
    {
     "ename": "AttributeError",
     "evalue": "module 'spacy' has no attribute 'Doc'",
     "output_type": "error",
     "traceback": [
      "\u001b[0;31m---------------------------------------------------------------------------\u001b[0m",
      "\u001b[0;31mAttributeError\u001b[0m                            Traceback (most recent call last)",
      "\u001b[0;32m/var/folders/7t/dq_q5_d944xbjbfpzcdd2p1w0000gn/T/ipykernel_80022/2626377893.py\u001b[0m in \u001b[0;36m<module>\u001b[0;34m\u001b[0m\n\u001b[0;32m----> 1\u001b[0;31m \u001b[0mspacy\u001b[0m\u001b[0;34m.\u001b[0m\u001b[0mDoc\u001b[0m\u001b[0;34m\u001b[0m\u001b[0;34m\u001b[0m\u001b[0m\n\u001b[0m",
      "\u001b[0;31mAttributeError\u001b[0m: module 'spacy' has no attribute 'Doc'"
     ]
    }
   ],
   "source": []
  },
  {
   "cell_type": "code",
   "execution_count": 7,
   "id": "d38906cc",
   "metadata": {},
   "outputs": [],
   "source": [
    "import json \n",
    "import pandas as pd"
   ]
  },
  {
   "cell_type": "code",
   "execution_count": 11,
   "id": "3164e195",
   "metadata": {},
   "outputs": [],
   "source": [
    "qs = pd.read_csv('/Users/nehasrikanth/Documents/question-gen/seed_annotation/round_2/annotator_questions_masterlist.csv')"
   ]
  },
  {
   "cell_type": "code",
   "execution_count": 38,
   "id": "597f7473",
   "metadata": {},
   "outputs": [],
   "source": [
    "trigger_templates = {'who': ['there is someone that'],\n",
    "'which': ['some'],\n",
    "'where': ['there is some place that'],\n",
    "'what': ['there is something that'],\n",
    "'when': ['','there is some point in time that'],\n",
    "'how': ['', 'there is some way that'],\n",
    "'why': ['', 'there is some reason that'],\n",
    "'the': ['exists', 'is contextually unique'],\n",
    "'\\'s': ['has']}"
   ]
  },
  {
   "cell_type": "code",
   "execution_count": 52,
   "id": "998d38a3",
   "metadata": {
    "scrolled": false
   },
   "outputs": [
    {
     "name": "stdout",
     "output_type": "stream",
     "text": [
      "What do you do with a 4 month old?\n",
      "[Reinforce the words] by repeating them. Encourage your child's language by waiting for a response when you are having a \"conversation.\" Continue reading from books with large, colorful illustrations. Point to the pictures and say what's in them to create associations between the things your child sees and the words that describe them. Encourage your child to point to pictures in the book (\"where is the cat?\"). Here are some other ideas for encouraging your 8- to 12-month-old to learn and play: Help your baby get into the crawling position on hands and knees.\n",
      "what ['there is something that']\n",
      "----\n",
      "What promotes motor skills, handeye coordination, and independence?\n",
      "Let your baby feed himself or herself. [Finger feeding] promotes fine motor skills, handeye coordination, and independence Continue to play games like peekaboo, but vary it a bit by hiding your face with a blanket and letting the baby pull it off, hiding around the corner, and showing your baby how to cover his or her own face with the hands. Continue to play hide and seek and test your child's understanding of object permanence. Let your baby watch you hide a toy first partially hidden, then covered completely and let him or her find it.\n",
      "what ['there is something that']\n",
      "----\n",
      "What do you need to know about toys for your baby?\n",
      "All toys you select for your baby or toddler should meet [safety standards]. The tips below can help you find safe toys for your little one. At home, check them often for loose or broken parts. What to look for: Always follow all manufacturers' age recommendations. Some toys have small parts that can cause choking, so heed all warnings on a toy's packaging. Toys should be large enough at least 114\" (3 centimeters) in diameter and 214\" (6 centimeters) in length so that they can't be swallowed or lodged in the windpipe.\n",
      "what ['there is something that']\n",
      "----\n",
      "What is the name of the toy that should not be placed in a child's throat?\n",
      "These tubes are designed to be about the same diameter as a child's windpipe. If an object fits inside the tube, then it's too small for a young child. If you can't find one of these products, [a toilet paper roll] can be used for the same purpose. Avoid marbles, coins, balls, and games with balls that are 1.75 inches (4.4 centimeters) in diameter or less because they can become lodged in the throat above the windpipe and cause trouble with breathing. Battery-operated toys should have battery cases that secure with screws so that kids cannot pry them open.\n",
      "what ['there is something that']\n",
      "the ['exists', 'is contextually unique']\n",
      "'s ['has']\n",
      "----\n",
      "What do you need to know about safe toys?\n",
      "When checking a toy for safety, make sure it's unbreakable and strong enough to withstand [chewing]. Also, make sure it doesn't have: sharp ends or small parts like eyes, wheels, or buttons that can be pulled loose small ends that can extend into the back of a baby's mouth strings longer than 7 inches (18 centimeters) parts that could become pinch points for small fingers Most riding toys can be used once a child is able to sit up well while unsupported but check the manufacturer's recommendations.\n",
      "what ['there is something that']\n",
      "----\n",
      "Who is responsible for recalling baby toys?\n",
      "Hand-me-down and homemade toys should be checked carefully. They may not have undergone testing for safety. Do not give your infant or toddler painted toys made before 1978, as they might have paint that contains lead. Stuffed animals and other toys that are sold or given away at carnivals and fairs are not required to meet safety standards. Check carnival toys carefully for loose parts and sharp edges before giving them to your child. Check to see if a toy has been recalled by the [Consumer Product Safety Commission] (CPSC) on their recall page .\n",
      "who ['there is someone that']\n",
      "----\n",
      "What is it called when a person doesn't get sick?\n",
      "Vaccines work by preparing the body to fight illness. Each contains either a dead or a weakened germ (or parts of it) that causes a particular disease. The body practices fighting the disease by making antibodies that recognize specific parts of that germ. This permanent or longstanding response means that if someone is ever exposed to the actual disease, the antibodies are already in place and the body knows how to combat it and the person doesn't get sick. This is called [immunity] .\n",
      "what ['there is something that']\n",
      "when ['', 'there is some point in time that']\n",
      "----\n",
      "What has protected millions of kids from dangerous diseases?\n",
      "[Immunizations] have protected millions of kids from dangerous diseases and saved thousands of lives. In fact, some diseases are so rare now that parents sometimes ask if vaccines for them are even needed. But most diseases that can be prevented by vaccines do still exist in the world, even in the United States, although they happen very rarely. No, the immune system makes antibodies against a germ, like the chickenpox virus, whether it encounters it naturally or is exposed to it through a vaccine. Being vaccinated against one disease does not weaken the immune response to another disease.\n",
      "what ['there is something that']\n",
      "----\n",
      "What live virus vaccine is no longer used in the united states?\n",
      "Only those immunizations made from weakened (also called attenuated ) live viruses like the chickenpox (varicella) and measles-mumps-rubella (MMR) vaccines could possibly make a child develop a mild form of the disease. But it's almost always much less severe than if a child became infected with the disease-causing virus itself. However, for kids with weakened immune systems, such as those being treated for cancer, these vaccines may cause problems. The risk of disease from vaccination is extremely small. One live virus vaccine that's no longer used in the United States is the [oral polio vaccine] (OPV).\n",
      "what ['there is something that']\n",
      "the ['exists', 'is contextually unique']\n",
      "----\n",
      "What disease has been eliminated from the list of most common questions about immunization?\n",
      "This change has completely eliminated the possibility of [polio disease] being caused by immunization in the United States. It is true that a single child's chance of catching a disease is low if everyone else is immunized. But your child is also exposed to people other than just those in school. And if one person thinks about skipping vaccines, chances are that others are thinking the same thing. Each child who isn't immunized gives highly contagious diseases one more chance to spread.\n",
      "what ['there is something that']\n",
      "the ['exists', 'is contextually unique']\n",
      "----\n",
      "What is the best way to protect your child from germs?\n",
      "So the best way to protect your kids is through [immunization]. Babies have stronger immune systems than you might think, and they can handle far more germs than what they receive from vaccines. In fact, the amount of germs in vaccines is just a small percentage of the germs babies' immune systems deal with every day. Sometimes, kids can have a reaction to a vaccine like a mild fever or rash.\n",
      "what ['there is something that']\n",
      "the ['exists', 'is contextually unique']\n",
      "----\n",
      "What are alternative schedules called?\n",
      "A lot of consideration and research went into creating the immunization schedule most doctors use, and it has been proven safe time and time again. Still, some parents choose to use alternative schedules ([spreading or \"spacing out\" vaccines]) because they're concerned about the number of shots their babies get at each checkup. This is actually more likely to make a baby sick. Studies show that many babies on alternative immunization schedules never get all the vaccines they need. Plus, alternative schedules can be a real hassle.\n",
      "what ['there is something that']\n",
      "----\n",
      "What is one of the most effective weapons we have against disease?\n",
      "Few things in medicine work 100% of the time. But [vaccines] are one of the most effective weapons we have against disease they work in 85% to 99% of cases. They greatly reduce your child's risk of serious illness (particularly when more and more people are vaccinated) and give diseases fewer chances to take hold in a population. It can be hard to watch kids get a shot, but the short-term pain is nothing compared with suffering through a potentially deadly bout of diphtheria , whooping cough , or measles .\n",
      "what ['there is something that']\n",
      "the ['exists', 'is contextually unique']\n",
      "----\n",
      "When is the best time to immunize kids?\n",
      "Because vaccines work by protecting the body before disease strikes, if you wait until your child gets sick, it will be too late for the vaccine to work. The best time to immunize kids is [when they're healthy]. The most common reactions to vaccines are minor and include: redness and swelling where the shot was given fever soreness at the site where the shot was given In rare cases, immunizations can trigger more serious problems, such as seizures or severe allergic reactions .\n",
      "when ['', 'there is some point in time that']\n",
      "the ['exists', 'is contextually unique']\n",
      "----\n",
      "What is the name of the diphtheria, tetanus, and pertuss?\n",
      "Every year, millions of kids are safely vaccinated and very few experience serious side effects. Research continually improves the safety of immunizations. The American Academy of Pediatrics (AAP) now advises doctors to use a diphtheria, tetanus , and pertussis vaccine that includes only specific parts of the pertussis cell instead of the entire killed cell. This vaccine, called [DTaP], has been associated with even fewer side effects. No. Numerous studies have found no link between vaccines and autism (a developmental disorder that's characterized by mild to severe impairment of communication and social interaction skills).\n",
      "what ['there is something that']\n",
      "the ['exists', 'is contextually unique']\n",
      "----\n",
      "When was the mr vaccine retracted?\n",
      "Still, some parents have opted not to have their children immunized, putting them at great risk of contracting deadly diseases. The MMR vaccine, especially, has come under fire even though many scientific reports have found no evidence linking the vaccine to autism. In fact, the study that suggested a possible link between autism and the MMR vaccine was retracted in [2004] and the doctor who published it lost his medical license .\n",
      "when ['', 'there is some point in time that']\n",
      "the ['exists', 'is contextually unique']\n",
      "----\n",
      "When did they start putting mercury in vaccines?\n",
      "There's also no reason to believe that thimerosal is linked to autism, according to the 2004 IOM report. Still, in an effort to reduce childhood exposure to mercury and other heavy metals, thimerosal began being removed from kids' vaccines in [1999]. Now, vaccines for infants and young children contain no or very little thimerosal . And recent studies have not shown any cognitive and behavioral problems in babies who might have received these thimerosal-containing vaccines. So what could explain the increased rates of autism in recent years?\n",
      "when ['', 'there is some point in time that']\n",
      "the ['exists', 'is contextually unique']\n",
      "----\n",
      "When did routine mr vaccination start in london?\n",
      "A greater awareness of the condition among health professionals also has led to more diagnoses. And although the number of children diagnosed with autism may be increasing, the rates of MMR vaccination are not. In London, diagnoses of autistic disorders have been on the rise since 1979, but rates of MMR vaccination haven't increased since routine MMR vaccination began in [1988]. Also, the average age of diagnosis of autism has been found to be the same both in children who have and who have not received the MMR vaccine.\n",
      "when ['', 'there is some point in time that']\n",
      "----\n",
      "What is the most common cause of diarrhea in children?\n",
      "[Rotavirus] is one of the most common causes of diarrhea in young children. In 1999, a rotavirus vaccine was taken off the market because it was linked to an increased risk for intussusception , a type of bowel obstruction, in babies. However, two different rotavirus vaccines (RotaTeq and Rotarix) are now available and are very safe. Some studies suggest that they have a very small increased risk for intussusception, but that problem is rare. These vaccines have been shown to prevent most cases of rotavirus infection and almost all of the severe cases.\n",
      "what ['there is something that']\n",
      "the ['exists', 'is contextually unique']\n",
      "----\n",
      "Who has the most information about immunizations?\n",
      "[Your doctor] will have the most current information. There are concerns, many of which circulate on the Internet, linking some vaccines to multiple sclerosis, sudden infant death syndrome (SIDS) , and other problems. To date, studies have failed to show any connection between immunizations and these conditions. The number of SIDS cases has actually fallen by more than 50% in recent years, whereas the number of vaccines given yearly has continued to rise. Diseases that are rare or nonexistent in the United States, like measles and polio, still exist in other parts of the world.\n",
      "who ['there is someone that']\n",
      "the ['exists', 'is contextually unique']\n",
      "----\n"
     ]
    }
   ],
   "source": [
    "pipeline = [find_change_of_state, find_continuation_of_state, check_comparative, check_cleft, check_sentence_for_embedded_question, check_sentence_for_factives, check_sentence_for_quote]\n",
    "\n",
    "for i, row in qs[10:30].iterrows():\n",
    "    q = row.question\n",
    "    spacy_q = nlp(q)\n",
    "    print(q)\n",
    "    print(row.passage_with_span)\n",
    "    \n",
    "    if check_sentence_for_embedded_question(spacy_q):\n",
    "        for k, v in trigger_templates.items():\n",
    "            if k in q.lower():\n",
    "                print(k, v)\n",
    "                \n",
    "    print('----')\n",
    "         "
   ]
  },
  {
   "cell_type": "code",
   "execution_count": 28,
   "id": "2954f1b7",
   "metadata": {},
   "outputs": [
    {
     "name": "stdout",
     "output_type": "stream",
     "text": [
      "When []\n",
      "do []\n",
      "babies []\n",
      "go [When, do, babies, from, to, ?]\n",
      "from [babies]\n",
      "babies []\n",
      "to [toddlers]\n",
      "toddlers []\n",
      "? []\n"
     ]
    }
   ],
   "source": [
    "for token in spacy_q:\n",
    "    print(token, list(token.children))"
   ]
  },
  {
   "cell_type": "code",
   "execution_count": 82,
   "id": "6a8e0109",
   "metadata": {
    "scrolled": true
   },
   "outputs": [
    {
     "name": "stdout",
     "output_type": "stream",
     "text": [
      "who warned that a president who could be reelected again and again may easily become a king\n"
     ]
    }
   ],
   "source": [
    "with open(dataset_path) as f:\n",
    "    for line in f: \n",
    "        text = line.rstrip(\"\\n\").split(\",\")[0]\n",
    "        nlp_text = nlp(text)\n",
    "        \n",
    "#         if check_sentence_for_embedded_question(nlp(text))[0]: \n",
    "#             print(text)\n",
    "         \n",
    "#         if check_sentence_for_factives(nlp_text)[0]: \n",
    "#             print(text)\n",
    "            \n",
    "#         if check_cleft(nlp_text): \n",
    "#             print(text)\n",
    "     \n",
    "#         if check_comparative(nlp_text)[0]: \n",
    "#             print(text)\n",
    "            \n",
    "    \n",
    "        if find_re_verbs(nlp_text): \n",
    "            print(text)"
   ]
  },
  {
   "cell_type": "code",
   "execution_count": null,
   "id": "e1f2198d",
   "metadata": {},
   "outputs": [],
   "source": [
    "s = \"it was rupak that ate the cookies\""
   ]
  },
  {
   "cell_type": "code",
   "execution_count": null,
   "id": "384a99e6",
   "metadata": {},
   "outputs": [],
   "source": [
    "import numpy as np "
   ]
  },
  {
   "cell_type": "code",
   "execution_count": null,
   "id": "46272f48",
   "metadata": {},
   "outputs": [],
   "source": [
    "s1 = \"it was neha that ate the cookies\""
   ]
  },
  {
   "cell_type": "code",
   "execution_count": null,
   "id": "cf4fa480",
   "metadata": {},
   "outputs": [],
   "source": [
    "check_cleft(nlp(s1)) "
   ]
  },
  {
   "cell_type": "code",
   "execution_count": null,
   "id": "be9a2baa",
   "metadata": {},
   "outputs": [],
   "source": [
    "tokens = list(nlp(s1))\n",
    "#print(tokens)\n",
    "tokens_str = [str(token) for token in tokens]\n",
    "#print(tokens_str)\n",
    "cleft_word = np.intersect1d(tokens_str, [\"it\"])\n",
    "#print(cleft_word)\n",
    "index = tokens_str.index(cleft_word)\n",
    "\n",
    "cop = tokens[index + 1]\n",
    "obj = None \n",
    "for child in cop.children: \n",
    "    #print(child, child.dep_ )\n",
    "    \n",
    "    if child.dep_ in ['attr', 'dobj']: \n",
    "        obj = child\n",
    "        break "
   ]
  },
  {
   "cell_type": "code",
   "execution_count": null,
   "id": "5543b021",
   "metadata": {},
   "outputs": [],
   "source": [
    "list(obj.children)  "
   ]
  },
  {
   "cell_type": "code",
   "execution_count": null,
   "id": "87d81b0d",
   "metadata": {},
   "outputs": [],
   "source": [
    "check_cleft(nlp(s1) ) "
   ]
  },
  {
   "cell_type": "code",
   "execution_count": null,
   "id": "b5b60a63",
   "metadata": {},
   "outputs": [],
   "source": [
    "comp_sent = \"Clifford is a bigger dog than Cujo.\"  # should evaluate to true\n",
    "\n"
   ]
  },
  {
   "cell_type": "code",
   "execution_count": null,
   "id": "f43e2be6",
   "metadata": {},
   "outputs": [],
   "source": [
    "# test sentences\n",
    "comp_sent = \"Is Clifford a bigger dog than Cujo?\"  # should evaluate to true\n",
    "comp_sent2 = \"Clifford is a more giant dog than Cujo.\"  # should evaluate to true\n",
    "non_comp_sent = \"Clifford is a bigger dog than I thought,\"  # should evaluate to false\n",
    "other_comp = \"Clifford is bigger of a dog than Cujo.\"  # should evaluate to true\n",
    "other_comp2 = \"Clifford is bigger a dog than Cujo.\"  # should evaluate to true, currently doesn't\n",
    "\n",
    "# displacy.serve(nlp(other_comp2),style='dep')\n"
   ]
  },
  {
   "cell_type": "code",
   "execution_count": null,
   "id": "e9d9307b",
   "metadata": {},
   "outputs": [],
   "source": [
    "check_comparative(nlp(comp_sent))"
   ]
  },
  {
   "cell_type": "code",
   "execution_count": null,
   "id": "a020ee84",
   "metadata": {},
   "outputs": [],
   "source": [
    "check_sentence_for_embedded_question(nlp(\"I fail to see how you can rationalize rewarding illegality.\")) "
   ]
  },
  {
   "cell_type": "code",
   "execution_count": null,
   "id": "2c0871c2",
   "metadata": {},
   "outputs": [],
   "source": [
    "s10 = \"a microsecond later, images from his exterior sensors didn't snap into focus\"\n",
    "\n",
    "find_change_of_state(nlp(s10))"
   ]
  },
  {
   "cell_type": "code",
   "execution_count": null,
   "id": "40a8af4a",
   "metadata": {},
   "outputs": [],
   "source": [
    "s9 = \"Lisa stopped petting Tom's cat\"\n",
    "\n",
    "q = \"both kids smiled\"\n",
    "q1 = \"all three cat owners that julia spoke to want another cat\"\n",
    "q2 = \"both of our fathers were thin\""
   ]
  },
  {
   "cell_type": "code",
   "execution_count": null,
   "id": "3559ab11",
   "metadata": {},
   "outputs": [],
   "source": [
    "q3 = \"do you see any problem at all because folks on both sides of the aisle have tremendous respect from him?\""
   ]
  },
  {
   "cell_type": "code",
   "execution_count": null,
   "id": "d67c8f7d",
   "metadata": {},
   "outputs": [],
   "source": [
    "s4 = \"meaning behind the song whiter shade of pale\""
   ]
  },
  {
   "cell_type": "code",
   "execution_count": null,
   "id": "788d57db",
   "metadata": {},
   "outputs": [],
   "source": [
    "find_change_of_state(nlp(s9))"
   ]
  },
  {
   "cell_type": "code",
   "execution_count": null,
   "id": "5548367e",
   "metadata": {},
   "outputs": [],
   "source": [
    "find_continuation_of_state(nlp(s9))"
   ]
  },
  {
   "cell_type": "code",
   "execution_count": 21,
   "id": "a12ea44f",
   "metadata": {},
   "outputs": [],
   "source": [
    "def find_numeric_determiners(sentence):\n",
    "\n",
    "    numeric_predeterminers = set([\"all\"])\n",
    "    special_determiners = set([\"both\"])\n",
    "    all_determiners = numeric_predeterminers | special_determiners\n",
    "\n",
    "\n",
    "    # extract words as list of strings\n",
    "    words = [t.text.lower() for t in sentence]\n",
    "    \n",
    "    #print(words)\n",
    "    if set(words) & all_determiners:\n",
    "        for token in sentence:\n",
    "            include = False\n",
    "            if token.text.lower() in special_determiners:\n",
    "                if token.tag_ == \"DT\" and token.dep_ == \"det\":\n",
    "                    include = True\n",
    "                    return True  \n",
    "                    \n",
    "                if not include:\n",
    "                    for child in token.children:\n",
    "                        if child.dep_ == \"prep\" and child.text.lower() == \"of\":\n",
    "                            include = True\n",
    "                            return True \n",
    "\n",
    "\n",
    "            if not include and token.text.lower() in numeric_predeterminers:\n",
    "                        \n",
    "                if token.tag_ == \"DT\" and token.dep_ == \"det\":\n",
    "                    head_token = token.head\n",
    "\n",
    "                    if head_token.tag_ == \"CD\":\n",
    "                        include = True # all three of the children\n",
    "                        return True  \n",
    "                        \n",
    "                    else :\n",
    "                        \n",
    "                        for child in head_token.children:\n",
    "                            ##print(\"\\t\", child, child.dep_, child.tag_)\n",
    "                            if child.tag_ == \"CD\" and child.dep_ == \"nummod\":  ## changed token.dep_ to child.dep_ \n",
    "                                #print(\"here\")\n",
    "                                ##print(sentence)\n",
    "                                include = True # all three children\n",
    "                                #print(include)\n",
    "                                return True \n",
    "                \n",
    "                elif token.tag_ == \"DT\":\n",
    "                    for child in token.children:\n",
    "                        if child.dep_ == \"prep\" and child.text.lower() == \"of\":\n",
    "                            for child_child in child.children:\n",
    "                                if child_child.dep_ == \"pobj\":\n",
    "                                    has_det = False\n",
    "                                    has_nummod = False\n",
    "                                    for child_child_child in child_child.children:\n",
    "                                        if (child_child_child.tag_ == \"CD\"\n",
    "                                            and child_child_child.dep_ == \"nummod\"):\n",
    "                                            has_nummod = True # all of the three children\n",
    "                                        if (child_child_child.tag_ == \"DT\"\n",
    "                                            and child_child_child.dep_ == \"det\"):\n",
    "                                            has_det = True # all of the three children\n",
    "\n",
    "                                    include = has_det and has_nummod\n",
    "                                    if include:\n",
    "                                        #print(sentence)\n",
    "                                        return True \n",
    "                            if include:\n",
    "                                return True \n",
    "\n",
    "\n",
    "    return False\n",
    "\n",
    "\n"
   ]
  },
  {
   "cell_type": "code",
   "execution_count": 23,
   "id": "78d2929d",
   "metadata": {},
   "outputs": [
    {
     "data": {
      "text/plain": [
       "True"
      ]
     },
     "execution_count": 23,
     "metadata": {},
     "output_type": "execute_result"
    }
   ],
   "source": [
    "find_numeric_determiners(nlp(s5))"
   ]
  },
  {
   "cell_type": "code",
   "execution_count": 22,
   "id": "13743589",
   "metadata": {},
   "outputs": [],
   "source": [
    "s5 = \"both channels is administered by the u.s. department of justice\""
   ]
  },
  {
   "cell_type": "code",
   "execution_count": 32,
   "id": "8ce12e6c",
   "metadata": {},
   "outputs": [],
   "source": [
    "#from re_verbs_better import find_re_verbs "
   ]
  },
  {
   "cell_type": "code",
   "execution_count": 95,
   "id": "4d8a66f5",
   "metadata": {},
   "outputs": [],
   "source": [
    "re_verbs_corpus = \"wordlists/re_verbs_updated.txt\"\n",
    "\n",
    "def find_re_verbs(sentence, cos_predicate_path = re_verbs_corpus):\n",
    "\n",
    "    with open(cos_predicate_path, 'r') as f:\n",
    "        re_verbs = set([l.strip() for l in f.readlines()])\n",
    "\n",
    "    # extract words as list of strings\n",
    "    words = [t.text for t in sentence]\n",
    "    \n",
    "    if set(words) & re_verbs:\n",
    "        \n",
    "        for token in sentence:\n",
    "            #print(token, token.tag_, token.dep_)\n",
    "            if (str(token) in re_verbs\n",
    "                and token.tag_[0] == \"V\"\n",
    "                and token.dep_ == \"ROOT\"):  # why?? \n",
    "                \n",
    "                if len(list(token.children))  > 0: \n",
    "                    return True \n",
    "                    \n",
    "    return False \n",
    "\n",
    " "
   ]
  },
  {
   "cell_type": "code",
   "execution_count": 98,
   "id": "99ed0f74",
   "metadata": {},
   "outputs": [],
   "source": [
    "s6 = \"holly decided to reconnect the charger?\""
   ]
  },
  {
   "cell_type": "code",
   "execution_count": 99,
   "id": "f9fa075f",
   "metadata": {},
   "outputs": [
    {
     "data": {
      "text/plain": [
       "False"
      ]
     },
     "execution_count": 99,
     "metadata": {},
     "output_type": "execute_result"
    }
   ],
   "source": [
    "find_re_verbs(nlp(s6))"
   ]
  },
  {
   "cell_type": "code",
   "execution_count": 56,
   "id": "4b7b8bef",
   "metadata": {},
   "outputs": [],
   "source": [
    "with open(re_verbs_corpus, 'r') as f:\n",
    "        re_verbs = set([l.strip() for l in f.readlines()])"
   ]
  },
  {
   "cell_type": "code",
   "execution_count": 59,
   "id": "7ca002c8",
   "metadata": {},
   "outputs": [
    {
     "data": {
      "text/plain": [
       "False"
      ]
     },
     "execution_count": 59,
     "metadata": {},
     "output_type": "execute_result"
    }
   ],
   "source": [
    "\"reenter\" in re_verbs"
   ]
  },
  {
   "cell_type": "code",
   "execution_count": 100,
   "id": "ee53d864",
   "metadata": {},
   "outputs": [],
   "source": [
    "from re_verbs_better import find_re_verbs"
   ]
  },
  {
   "cell_type": "code",
   "execution_count": 104,
   "id": "7178e321",
   "metadata": {},
   "outputs": [],
   "source": [
    "from spacy import displacy\n",
    "from spacy.matcher import PhraseMatcher\n",
    "\n",
    "implicative_path = \"wordlists/implicative_predicates.txt\"\n",
    "\n",
    "def find_implicatives(sentence, impl_pred_path=implicative_path):\n",
    "    \n",
    "    nlp = spacy.load(\"en_core_web_sm\")\n",
    "    matcher = PhraseMatcher(nlp.vocab)\n",
    "    \n",
    "    with open(impl_pred_path, 'r') as f:\n",
    "        implicatives = [l.strip() for l in f]\n",
    "        implicative_pairs = [item.split(\":\") for item in implicatives] #seperate predicates and inferences\n",
    "        implicative_predicates = [pair[0] for pair in implicative_pairs]\n",
    "        implicative_inferences_dict = {pair[0]:pair[1] for pair in implicative_pairs} #dictionary mapping predicates to inferences\n",
    "        implicative_verbs = set([p.split()[0] for p in implicative_predicates])\n",
    "        # add implicative predicates to matcher\n",
    "        patterns = [nlp.make_doc(text) for text in implicative_predicates]\n",
    "        matcher.add(\"IMPL_PRED_LIST\", None, *patterns)\n",
    "        \n",
    "\n",
    "    #words = [t.text for t in sentence]\n",
    "    # find matches of implicative predicates in the sentence\n",
    "    matches = matcher(sentence)\n",
    "\n",
    "    if len(matches) > 0:\n",
    "        for match_id, start, end in matches:\n",
    "            impl_phrase = sentence[start:end]\n",
    "            #print(str(impl_phrase))\n",
    "        # match found, proceed to further checking\n",
    "        for token in sentence:\n",
    "            if (str(token) in implicative_verbs\n",
    "                and token.tag_[0] == \"V\"\n",
    "                and token.dep_ == \"ROOT\"):\n",
    "                #include = False\n",
    "                for child in token.children:\n",
    "                    if child.dep_ == \"prep\":\n",
    "                        for childs in child.children:\n",
    "                            if childs.dep_ == \"pcomp\" and childs.pos_ == \"VERB\":\n",
    "                                return True \n",
    "                                #include = True\n",
    "                                #break\n",
    "                    else:\n",
    "                        if child.dep_ == \"xcomp\" and child.pos_ == \"VERB\":\n",
    "                            return True \n",
    "                            #include = True\n",
    "                            #break\n",
    "    return False "
   ]
  },
  {
   "cell_type": "code",
   "execution_count": 107,
   "id": "b9f98466",
   "metadata": {},
   "outputs": [],
   "source": [
    "s = \"survivors managed to scramble out through the tiny gap in the rocks\"\n",
    "s1 = \"survivors scrambled through the tiny gaps on the rocks\""
   ]
  },
  {
   "cell_type": "code",
   "execution_count": 109,
   "id": "62368a5d",
   "metadata": {},
   "outputs": [],
   "source": [
    "from implicative_verbs_better import find_implicatives"
   ]
  },
  {
   "cell_type": "code",
   "execution_count": null,
   "id": "0aa5f217",
   "metadata": {},
   "outputs": [],
   "source": []
  }
 ],
 "metadata": {
  "kernelspec": {
   "display_name": "Python (dnli)",
   "language": "python",
   "name": "dnli"
  },
  "language_info": {
   "codemirror_mode": {
    "name": "ipython",
    "version": 3
   },
   "file_extension": ".py",
   "mimetype": "text/x-python",
   "name": "python",
   "nbconvert_exporter": "python",
   "pygments_lexer": "ipython3",
   "version": "3.8.11"
  }
 },
 "nbformat": 4,
 "nbformat_minor": 5
}
